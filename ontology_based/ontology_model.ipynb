{
 "cells": [
  {
   "cell_type": "code",
   "execution_count": null,
   "metadata": {},
   "outputs": [],
   "source": []
  },
  {
   "cell_type": "code",
   "execution_count": null,
   "metadata": {},
   "outputs": [],
   "source": []
  },
  {
   "cell_type": "code",
   "execution_count": 1,
   "metadata": {},
   "outputs": [],
   "source": [
    "from owlready2 import *\n"
   ]
  },
  {
   "cell_type": "code",
   "execution_count": 2,
   "metadata": {},
   "outputs": [],
   "source": [
    "onto = get_ontology(\"http://test.org/onto.owl\")"
   ]
  },
  {
   "cell_type": "code",
   "execution_count": 3,
   "metadata": {},
   "outputs": [],
   "source": [
    "with onto:\n",
    "    class Movie(Thing):\n",
    "        pass\n",
    "    class Narrative(Thing):\n",
    "        pass\n",
    "    class SoundEffect(Thing):\n",
    "        pass\n",
    "    class Scene(Thing):\n",
    "        pass\n",
    "    class has_narrative(ObjectProperty):\n",
    "        domain    = [Movie]\n",
    "        range     = [Narrative]\n",
    "    class has_soundeffect(ObjectProperty):\n",
    "        domain    = [Movie]\n",
    "        range     = [SoundEffect]\n",
    "    class has_scene(ObjectProperty):\n",
    "        domain    = [Movie]\n",
    "        range     = [Scene]"
   ]
  },
  {
   "cell_type": "code",
   "execution_count": null,
   "metadata": {},
   "outputs": [],
   "source": []
  }
 ],
 "metadata": {
  "kernelspec": {
   "display_name": "Python 3",
   "language": "python",
   "name": "python3"
  },
  "language_info": {
   "codemirror_mode": {
    "name": "ipython",
    "version": 3
   },
   "file_extension": ".py",
   "mimetype": "text/x-python",
   "name": "python",
   "nbconvert_exporter": "python",
   "pygments_lexer": "ipython3",
   "version": "3.8.3"
  }
 },
 "nbformat": 4,
 "nbformat_minor": 4
}
